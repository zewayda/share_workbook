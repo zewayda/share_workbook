{
  "metadata": {
    "kernelspec": {
      "name": "python",
      "display_name": "Python (Pyodide)",
      "language": "python"
    },
    "language_info": {
      "codemirror_mode": {
        "name": "python",
        "version": 3
      },
      "file_extension": ".py",
      "mimetype": "text/x-python",
      "name": "python",
      "nbconvert_exporter": "python",
      "pygments_lexer": "ipython3",
      "version": "3.8"
    }
  },
  "nbformat_minor": 5,
  "nbformat": 4,
  "cells": [
    {
      "id": "1e9da8bd-05ca-4859-89fe-0204db860bf7",
      "cell_type": "markdown",
      "source": "# Data Science Tools and Ecosystem\n",
      "metadata": {}
    },
    {
      "id": "e89b345a-7166-4a3f-9e9b-876da9390681",
      "cell_type": "markdown",
      "source": "In this notebook, Data Science Tools and Ecosystem are summarized.",
      "metadata": {}
    },
    {
      "id": "301033ae-7754-4870-ba90-cec567b52608",
      "cell_type": "markdown",
      "source": "**Objectives:**\n\n- List popular languages for Data Science.\n- Introduce commonly used libraries by Data Scientists.\n- Showcase code examples for converting minutes to hours.\n",
      "metadata": {}
    },
    {
      "id": "cccfdd67-640a-459a-beee-b11f4a8c0e29",
      "cell_type": "markdown",
      "source": "Some of the popular languages that Data Scientists use are:\n1. Python\n2. R\n3. SQL (Structured Query Language)\n4. Java",
      "metadata": {}
    },
    {
      "id": "924a614f-e987-4b6e-9026-f72d745f9791",
      "cell_type": "markdown",
      "source": "Some of the commonly used libraries used by Data Scientists include:\n1. NumPy\n2. Pandas\n3. matplotlib\n4. Seaborn",
      "metadata": {}
    },
    {
      "id": "5b7a930c-8435-4330-aaa3-802f9305914b",
      "cell_type": "markdown",
      "source": "| Data Science Tools |\n|---------------------|\n| Jupyter Notebooks  |\n| RStudio             |\n| VS Code             |\n",
      "metadata": {}
    },
    {
      "id": "019a8468-6045-4752-a58c-e0c53b816232",
      "cell_type": "markdown",
      "source": "### Below are a few examples of evaluating arithmetic expressions in Python\n",
      "metadata": {}
    },
    {
      "id": "0ec73036-305a-4a2a-876a-19f2ea5618bd",
      "cell_type": "code",
      "source": "#This a simple arithmetic expression to mutiply then add integers\n(3*4)+5.",
      "metadata": {
        "trusted": true
      },
      "outputs": [
        {
          "execution_count": 3,
          "output_type": "execute_result",
          "data": {
            "text/plain": "17.0"
          },
          "metadata": {}
        }
      ],
      "execution_count": 3
    },
    {
      "id": "5ff2a599-3b60-44e5-bd99-4f6cd2ca4693",
      "cell_type": "code",
      "source": "#This will convert 200 minutes to hours by diving by 60\nminutes = 200\nhours = minutes / 60\n\n# Display the result\nhours",
      "metadata": {
        "trusted": true
      },
      "outputs": [
        {
          "execution_count": 5,
          "output_type": "execute_result",
          "data": {
            "text/plain": "3.3333333333333335"
          },
          "metadata": {}
        }
      ],
      "execution_count": 5
    },
    {
      "id": "6f4a0578-9ad6-4a04-96a4-1e3461c48c56",
      "cell_type": "markdown",
      "source": "## Author\nTamzin Z",
      "metadata": {}
    }
  ]
}